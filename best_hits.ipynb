{
 "cells": [
  {
   "cell_type": "code",
   "execution_count": 1,
   "id": "f9efeb9b-6e8e-4dd7-affa-79020fa53e8e",
   "metadata": {},
   "outputs": [
    {
     "name": "stdout",
     "output_type": "stream",
     "text": [
      "results.txt  Untitled.ipynb\n"
     ]
    }
   ],
   "source": [
    "ls"
   ]
  },
  {
   "cell_type": "code",
   "execution_count": 2,
   "id": "5c882bf8-b3e5-4e30-8966-32245518066a",
   "metadata": {},
   "outputs": [],
   "source": [
    "import pandas as pd\n",
    "\n",
    "# Column names for BLAST format 6\n",
    "columns = [\n",
    "    \"qseqid\", \"sseqid\", \"pident\", \"length\", \"mismatch\", \"gapopen\",\n",
    "    \"qstart\", \"qend\", \"sstart\", \"send\", \"evalue\", \"bitscore\"\n",
    "]\n",
    "\n",
    "# Load the file\n",
    "df = pd.read_csv(\"results.txt\", sep=\"\\t\", header=None, names=columns)\n",
    "\n",
    "# Save to CSV\n",
    "df.to_csv(\"results.csv\", index=False)\n"
   ]
  },
  {
   "cell_type": "code",
   "execution_count": 3,
   "id": "09378ff9-6e8f-4064-857b-c72e84eed93d",
   "metadata": {},
   "outputs": [],
   "source": [
    "# Sort by query, then by highest pident, then highest bitscore\n",
    "df_sorted = df.sort_values(by=[\"qseqid\", \"pident\", \"bitscore\"], ascending=[True, False, False])\n",
    "\n",
    "# Keep the top hit per query\n",
    "best_hits = df_sorted.drop_duplicates(subset=[\"qseqid\"], keep=\"first\")\n",
    "\n",
    "# Save filtered results\n",
    "best_hits.to_csv(\"best_hits.csv\", index=False)\n"
   ]
  },
  {
   "cell_type": "code",
   "execution_count": 5,
   "id": "9a8973d6-d253-4be1-ac64-089d7cbccf32",
   "metadata": {},
   "outputs": [],
   "source": [
    "# Save best hits to Excel\n",
    "best_hits.to_excel(\"best_hits.xlsx\", index=False, engine=\"openpyxl\")\n",
    "\n"
   ]
  },
  {
   "cell_type": "code",
   "execution_count": null,
   "id": "9d4845f8-6325-4886-9c84-255bacd97485",
   "metadata": {},
   "outputs": [],
   "source": []
  },
  {
   "cell_type": "code",
   "execution_count": null,
   "id": "f9298b5c-fa27-4d04-abc8-f51f0966dda2",
   "metadata": {},
   "outputs": [],
   "source": []
  }
 ],
 "metadata": {
  "kernelspec": {
   "display_name": "Python 3 (ipykernel)",
   "language": "python",
   "name": "python3"
  },
  "language_info": {
   "codemirror_mode": {
    "name": "ipython",
    "version": 3
   },
   "file_extension": ".py",
   "mimetype": "text/x-python",
   "name": "python",
   "nbconvert_exporter": "python",
   "pygments_lexer": "ipython3",
   "version": "3.12.3"
  }
 },
 "nbformat": 4,
 "nbformat_minor": 5
}
